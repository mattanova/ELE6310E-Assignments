{
  "cells": [
    {
      "cell_type": "markdown",
      "metadata": {
        "id": "view-in-github",
        "colab_type": "text"
      },
      "source": [
        "<a href=\"https://colab.research.google.com/github/mattanova/ELE6310E-Assignments/blob/main/HW2_Q3_MN.ipynb\" target=\"_parent\"><img src=\"https://colab.research.google.com/assets/colab-badge.svg\" alt=\"Open In Colab\"/></a>"
      ]
    },
    {
      "cell_type": "code",
      "execution_count": null,
      "metadata": {
        "id": "0UFuARisVh-U"
      },
      "outputs": [],
      "source": [
        "%matplotlib inline\n",
        "%load_ext autoreload\n",
        "%autoreload 2\n",
        "\n",
        "from google.colab import drive\n",
        "drive.mount('/content/gdrive/', force_remount=True)"
      ]
    },
    {
      "cell_type": "code",
      "execution_count": null,
      "metadata": {
        "id": "PWNU6Y7OWAwF"
      },
      "outputs": [],
      "source": [
        "import sys\n",
        "import os\n",
        "import shutil\n",
        "import warnings\n",
        "\n",
        "# Install requirements\n",
        "!pip install -qr /content/gdrive/MyDrive/ELE6310E/A2/requirements.txt\n",
        "# Check if CUDA is available\n",
        "import torch\n",
        "if not torch.cuda.is_available():\n",
        "    warnings.warn('CUDA is not available.')"
      ]
    },
    {
      "cell_type": "code",
      "execution_count": null,
      "metadata": {
        "id": "F_fJMnD2kFk-"
      },
      "outputs": [],
      "source": [
        "#installing timeloop/accelergy\n",
        "!source /content/gdrive/MyDrive/ELE6310E/A2/install_timeloop/install_timeloop.sh\n",
        "!export PATH=$PATH:~/.local/bin\n",
        "!cp ~/.local/bin/timeloop* /usr/bin/\n",
        "!cp ~/ENV/bin/accelergy* /usr/bin/"
      ]
    },
    {
      "cell_type": "code",
      "execution_count": 4,
      "metadata": {
        "id": "iQ8uonvqkr4y",
        "colab": {
          "base_uri": "https://localhost:8080/"
        },
        "outputId": "3f188ccc-5a14-4e2b-f929-f5d12360b191"
      },
      "outputs": [
        {
          "output_type": "stream",
          "name": "stdout",
          "text": [
            "/content/gdrive/MyDrive/ELE6310E/A2\n"
          ]
        }
      ],
      "source": [
        "%cd /content/gdrive/MyDrive/ELE6310E/A2"
      ]
    },
    {
      "cell_type": "code",
      "execution_count": 5,
      "metadata": {
        "id": "Y8SxZbSnWd_E"
      },
      "outputs": [],
      "source": [
        "import solution\n",
        "import torch\n",
        "import numpy as np\n",
        "import random\n",
        "from matplotlib import pyplot as plt\n",
        "import os"
      ]
    },
    {
      "cell_type": "code",
      "execution_count": 6,
      "metadata": {
        "id": "XV1xnecsWeeh"
      },
      "outputs": [],
      "source": [
        "from common.utils import load_CIFAR10_dataset, evaluate, fit, model_size\n",
        "from common.resnet import resnet32"
      ]
    },
    {
      "cell_type": "code",
      "execution_count": 7,
      "metadata": {
        "id": "m4ZskhGml-Qk"
      },
      "outputs": [],
      "source": [
        "#initializing the model\n",
        "Seed = 6310\n",
        "torch.manual_seed(Seed)\n",
        "np.random.seed(Seed)\n",
        "random.seed(Seed)\n",
        "if torch.cuda.is_available():\n",
        "    torch.cuda.manual_seed(Seed)\n",
        "    torch.cuda.manual_seed_all(Seed)"
      ]
    },
    {
      "cell_type": "code",
      "execution_count": 8,
      "metadata": {
        "id": "LA0XXQzWnD_A",
        "colab": {
          "base_uri": "https://localhost:8080/"
        },
        "outputId": "8750cdfb-074d-473e-a543-946a8c912468"
      },
      "outputs": [
        {
          "output_type": "stream",
          "name": "stdout",
          "text": [
            "Files already downloaded and verified\n",
            "Files already downloaded and verified\n",
            "test accuracy of fp model: 93.52999877929688 model size: model size: 1.781MB\n"
          ]
        }
      ],
      "source": [
        "train_loader, test_loader, calibration_loader = load_CIFAR10_dataset(batch_size=256, calibration_batch_size=1024)\n",
        "model = resnet32(pretrained=True, save_path='./save/')\n",
        "device = torch.device('cuda:0')\n",
        "model.to(device)\n",
        "\n",
        "accuracy = evaluate(model, test_loader, device)\n",
        "print(\"test accuracy of fp model:\", accuracy, \"model size:\", model_size(model))"
      ]
    },
    {
      "cell_type": "code",
      "execution_count": 9,
      "metadata": {
        "colab": {
          "base_uri": "https://localhost:8080/"
        },
        "id": "UcrGCYPknJ9F",
        "outputId": "8f865c59-b901-46c3-c6bc-75de3b516f09"
      },
      "outputs": [
        {
          "output_type": "stream",
          "name": "stdout",
          "text": [
            "test accuracy after pruning: 91.93999481201172 model size: model size: 1.718MB\n"
          ]
        }
      ],
      "source": [
        "# defining the pruning ratio layer-wise, initial point\n",
        "prune_ratio_dict = {'conv1': 0.15888684050874416,\n",
        " 'layer1.0.conv1': 0.10930676896739228,\n",
        " 'layer1.0.conv2': 0,\n",
        " 'layer1.1.conv1': 0,\n",
        " 'layer1.1.conv2': 0,\n",
        " 'layer1.2.conv1': 0.3190485660646372,\n",
        " 'layer1.2.conv2': 0.30110353892847547,\n",
        " 'layer1.3.conv1': 0.26903990515139614,\n",
        " 'layer1.3.conv2': 0.475506468213601,\n",
        " 'layer1.4.conv1': 0.0,\n",
        " 'layer1.4.conv2': 0,\n",
        " 'layer2.0.conv1': 0,\n",
        " 'layer2.0.conv2': 0,\n",
        " 'layer2.0.downsample.0': 0.0,\n",
        " 'layer2.1.conv1': 0.0,\n",
        " 'layer2.1.conv2': 0.26589526031558985,\n",
        " 'layer2.2.conv1': 0.14956786532078858,\n",
        " 'layer2.2.conv2': 0.14493558154128183,\n",
        " 'layer2.3.conv1': 0,\n",
        " 'layer2.3.conv2': 0.31274246292993024,\n",
        " 'layer2.4.conv1': 0,\n",
        " 'layer2.4.conv2': 0,\n",
        " 'layer3.0.conv1': 0.0,\n",
        " 'layer3.0.conv2': 0.0,\n",
        " 'layer3.0.downsample.0': 0,\n",
        " 'layer3.1.conv1': 0.0,\n",
        " 'layer3.1.conv2': 0.0,\n",
        " 'layer3.2.conv1': 0.0,\n",
        " 'layer3.2.conv2': 0.11769419701785133,\n",
        " 'layer3.3.conv1': 0.0,\n",
        " 'layer3.3.conv2': 0,\n",
        " 'layer3.4.conv1': 0.0,\n",
        " 'layer3.4.conv2': 0}\n",
        "\n",
        "sparsed_model = solution.model_to_spars(model, prune_ratio_dict)\n",
        "accuracy = evaluate(sparsed_model, test_loader, device)\n",
        "print(\"test accuracy after pruning:\", accuracy, \"model size:\", model_size(sparsed_model))"
      ]
    },
    {
      "cell_type": "code",
      "execution_count": null,
      "metadata": {
        "id": "vDOLO_Ulr0ZC"
      },
      "outputs": [],
      "source": [
        "# a heuristic search for possible pruning ratio encrementation\n",
        "import random\n",
        "for key,value in prune_ratio_dict.items():\n",
        "    rand = random.uniform(0.1,0.4) # this range can be changed, for ex. wider for initial times searching\n",
        "    prune_ratio_dict[key] += rand\n",
        "    sparsed_model = solution.model_to_spars(model, prune_ratio_dict)\n",
        "    temp_accuracy = evaluate(sparsed_model, test_loader, device)\n",
        "    if accuracy - temp_accuracy > accuracy*0.4: # to skip layers have a significant effect\n",
        "            prune_ratio_dict[key] -= rand\n",
        "    elif temp_accuracy < 85:    # accuracy constraint\n",
        "        prune_ratio_dict[key] -= rand\n",
        "    elif temp_accuracy > 86:    # to allow pruning as much as possible\n",
        "        accuracy = temp_accuracy\n",
        "    else:\n",
        "        break\n",
        "print(\"pruned model accuracy is: \",accuracy)"
      ]
    },
    {
      "cell_type": "code",
      "source": [
        "# same method but with random selection\n",
        "import random\n",
        "iter = 50\n",
        "while(iter):\n",
        "    rand = random.uniform(0,0.05) # this range can be changed, for ex. wider for initial times searching\n",
        "    random_key, _ = random.choice(list(prune_ratio_dict.items()))\n",
        "    prune_ratio_dict[random_key] += rand\n",
        "    sparsed_model = solution.model_to_spars(model, prune_ratio_dict)\n",
        "    temp_accuracy = evaluate(sparsed_model, test_loader, device)\n",
        "    if accuracy - temp_accuracy > 0.3: # to skip layers have a significant effect\n",
        "            prune_ratio_dict[random_key] -= rand\n",
        "    elif temp_accuracy < 85:    # accuracy constraint\n",
        "        prune_ratio_dict[random_key] -= rand\n",
        "    elif temp_accuracy > 86:    # to allow pruning as much as possible\n",
        "        accuracy = temp_accuracy\n",
        "    else:\n",
        "        break\n",
        "    print(iter)\n",
        "    iter-=1\n",
        "print(\"pruned model accuracy is: \",accuracy)"
      ],
      "metadata": {
        "id": "Mr2FRBsIvOcn"
      },
      "execution_count": null,
      "outputs": []
    },
    {
      "cell_type": "code",
      "source": [
        "prune_ratio_dict"
      ],
      "metadata": {
        "colab": {
          "base_uri": "https://localhost:8080/"
        },
        "id": "vyed7F4X9Wqq",
        "outputId": "958ab502-56a9-4c23-b924-edaa97f654d2"
      },
      "execution_count": 18,
      "outputs": [
        {
          "output_type": "execute_result",
          "data": {
            "text/plain": [
              "{'conv1': 0.33940623754778043,\n",
              " 'layer1.0.conv1': 0.11014794449624696,\n",
              " 'layer1.0.conv2': 0.1444396702791766,\n",
              " 'layer1.1.conv1': 0.02674164735388315,\n",
              " 'layer1.1.conv2': 0.12462514507375641,\n",
              " 'layer1.2.conv1': 0.39399475291114305,\n",
              " 'layer1.2.conv2': 0.46337510530167564,\n",
              " 'layer1.3.conv1': 0.280184152618819,\n",
              " 'layer1.3.conv2': 0.5192380997355431,\n",
              " 'layer1.4.conv1': 0.025512667234525947,\n",
              " 'layer1.4.conv2': 0.18089009948323612,\n",
              " 'layer2.0.conv1': 0.011460170481065055,\n",
              " 'layer2.0.conv2': 0.007618461576062864,\n",
              " 'layer2.0.downsample.0': 0.02899260636877482,\n",
              " 'layer2.1.conv1': 0.03994076347951642,\n",
              " 'layer2.1.conv2': 0.28358825206318083,\n",
              " 'layer2.2.conv1': 0.25539380336555,\n",
              " 'layer2.2.conv2': 0.16740337231192276,\n",
              " 'layer2.3.conv1': 0.16721455897893156,\n",
              " 'layer2.3.conv2': 0.3243700078185519,\n",
              " 'layer2.4.conv1': 0.3268138709161549,\n",
              " 'layer2.4.conv2': 0.34202691050653,\n",
              " 'layer3.0.conv1': 0.02427296363352241,\n",
              " 'layer3.0.conv2': 0.016582929001563863,\n",
              " 'layer3.0.downsample.0': 0.3642021856183625,\n",
              " 'layer3.1.conv1': 0.009781575058528311,\n",
              " 'layer3.1.conv2': 0.005629984075322847,\n",
              " 'layer3.2.conv1': 0.03904362758233979,\n",
              " 'layer3.2.conv2': 0.2159510104587562,\n",
              " 'layer3.3.conv1': 0.03974454939640042,\n",
              " 'layer3.3.conv2': 0.1662434148078404,\n",
              " 'layer3.4.conv1': 0.04664806586047975,\n",
              " 'layer3.4.conv2': 0.3313681535961539}"
            ]
          },
          "metadata": {},
          "execution_count": 18
        }
      ]
    },
    {
      "cell_type": "code",
      "execution_count": 19,
      "metadata": {
        "colab": {
          "base_uri": "https://localhost:8080/"
        },
        "id": "8tfVcj-snOn_",
        "outputId": "78a0a030-af65-46e2-ca3c-e0a7b81b6cc0"
      },
      "outputs": [
        {
          "output_type": "stream",
          "name": "stdout",
          "text": [
            "test accuracy after pruning: 88.66999816894531 model size: model size: 1.569MB\n"
          ]
        }
      ],
      "source": [
        "sparsed_model = solution.model_to_spars(model, prune_ratio_dict)\n",
        "accuracy = evaluate(sparsed_model, test_loader, device)\n",
        "print(\"test accuracy after pruning:\", accuracy, \"model size:\", model_size(sparsed_model))"
      ]
    },
    {
      "cell_type": "code",
      "execution_count": 20,
      "metadata": {
        "colab": {
          "base_uri": "https://localhost:8080/"
        },
        "id": "HNrI3huGnQwy",
        "outputId": "f4c23493-251a-48e9-d9bf-16cd60d8cbdf"
      },
      "outputs": [
        {
          "output_type": "stream",
          "name": "stderr",
          "text": [
            "fit:  20%|██        | 1/5 [00:47<03:09, 47.25s/it]"
          ]
        },
        {
          "output_type": "stream",
          "name": "stdout",
          "text": [
            "epoch 1: train_accuracy=99.48870849609375, test_accuracy=92.45999908447266\n"
          ]
        },
        {
          "output_type": "stream",
          "name": "stderr",
          "text": [
            "\rfit:  40%|████      | 2/5 [01:34<02:21, 47.07s/it]"
          ]
        },
        {
          "output_type": "stream",
          "name": "stdout",
          "text": [
            "epoch 2: train_accuracy=99.61141967773438, test_accuracy=92.6199951171875\n"
          ]
        },
        {
          "output_type": "stream",
          "name": "stderr",
          "text": [
            "\rfit:  60%|██████    | 3/5 [02:22<01:35, 47.83s/it]"
          ]
        },
        {
          "output_type": "stream",
          "name": "stdout",
          "text": [
            "epoch 3: train_accuracy=99.68709564208984, test_accuracy=92.75999450683594\n"
          ]
        },
        {
          "output_type": "stream",
          "name": "stderr",
          "text": [
            "\rfit:  80%|████████  | 4/5 [03:08<00:47, 47.02s/it]"
          ]
        },
        {
          "output_type": "stream",
          "name": "stdout",
          "text": [
            "epoch 4: train_accuracy=99.71163177490234, test_accuracy=92.87999725341797\n"
          ]
        },
        {
          "output_type": "stream",
          "name": "stderr",
          "text": [
            "                                                  "
          ]
        },
        {
          "output_type": "stream",
          "name": "stdout",
          "text": [
            "epoch 5: train_accuracy=99.77094268798828, test_accuracy=92.83999633789062\n"
          ]
        },
        {
          "output_type": "stream",
          "name": "stderr",
          "text": [
            "\r"
          ]
        }
      ],
      "source": [
        "criterion = torch.nn.CrossEntropyLoss()\n",
        "optimizer = torch.optim.SGD(sparsed_model.parameters(), 1e-3, momentum=0.9, weight_decay=0.0005, nesterov=True)\n",
        "scheduler = None\n",
        "train_accuracy, test_accuracy = fit(sparsed_model, 5, train_loader, test_loader, criterion, optimizer, scheduler, device)"
      ]
    },
    {
      "cell_type": "code",
      "execution_count": 21,
      "metadata": {
        "id": "L0Q8WsgBnc0g"
      },
      "outputs": [],
      "source": [
        "solution.generate_resnet_layers(sparsed_model, base_path='common/layer_prob_base.yaml',  path='Q3/prob')"
      ]
    },
    {
      "cell_type": "code",
      "execution_count": 22,
      "metadata": {
        "colab": {
          "base_uri": "https://localhost:8080/",
          "height": 1000
        },
        "id": "tXfgmWHBXq3H",
        "outputId": "d957a2be-7cd4-4c5e-b7c8-a12ea7f75d12"
      },
      "outputs": [
        {
          "output_type": "stream",
          "name": "stdout",
          "text": [
            "Q3/prob/layer1.1.conv1.yaml.yaml\n",
            "input file: Q3/arch/eyeriss_like.yaml\n",
            "input file: Q3/prob/layer1.1.conv1.yaml.yaml\n",
            "input file: Q3/mapper/mapper.yaml\n",
            "  _______                __                \n",
            " /_  __(_)___ ___  ___  / /___  ____  ____ \n",
            "  / / / / __ `__ \\/ _ \\/ / __ \\/ __ \\/ __ \\\n",
            " / / / / / / / / /  __/ / /_/ / /_/ / /_/ /\n",
            "/_/ /_/_/ /_/ /_/\\___/_/\\____/\\____/ .___/ \n",
            "                                  /_/      \n",
            "\n",
            "Problem configuration complete.\n",
            "execute:/usr/bin/accelergy Q3/arch/eyeriss_like.yaml Q3/prob/layer1.1.conv1.yaml.yaml Q3/mapper/mapper.yaml --oprefix timeloop-mapper. -o ./ > timeloop-mapper.accelergy.log 2>&1\n",
            "Generate Accelergy ERT (energy reference table) to replace internal energy model.\n",
            "Generate Accelergy ART (area reference table) to replace internal area model.\n",
            "Architecture configuration complete.\n",
            "Sparse optimization configuration complete.\n",
            "Using threads = 8\n",
            "Mapper configuration complete.\n",
            "Initializing Index Factorization subspace.\n",
            "  Factorization options along problem dimension C = 330\n",
            "  Factorization options along problem dimension M = 231660\n",
            "  Factorization options along problem dimension R = 8\n",
            "  Factorization options along problem dimension S = 8\n",
            "  Factorization options along problem dimension N = 1\n",
            "  Factorization options along problem dimension P = 792\n",
            "  Factorization options along problem dimension Q = 792\n",
            "Mapspace Dimension [IndexFactorization] Size: 3068988980428800\n",
            "Mapspace Dimension [LoopPermutation] Size: 3252016064102400000\n",
            "Mapspace Dimension [Spatial] Size: 64\n",
            "Mapspace Dimension [DatatypeBypass] Size: 32768\n",
            "ERROR: overflow detected: mapspace size appears to be greater than 2^128. Please add some mapspace constraints.\n",
            "energy consumption for layer1.1.conv1.yaml : 2336.29 uJ\n",
            "energy consumption for layer1.0.conv2.yaml : 2320.05 uJ\n",
            "energy consumption for layer1.0.conv1.yaml : 2320.05 uJ\n",
            "energy consumption for conv1.yaml : 97.25 uJ\n",
            "energy consumption for layer2.3.conv2.yaml : 3702.33 uJ\n",
            "energy consumption for layer3.1.conv1.yaml : 18375.17 uJ\n",
            "energy consumption for layer3.0.conv2.yaml : 18375.17 uJ\n",
            "energy consumption for layer3.0.downsample.0.yaml : 36.22 uJ\n",
            "energy consumption for layer2.4.conv2.yaml : 4287.59 uJ\n",
            "energy consumption for layer2.4.conv1.yaml : 3702.33 uJ\n",
            "energy consumption for layer3.0.conv1.yaml : 3367.39 uJ\n",
            "energy consumption for layer3.1.conv2.yaml : 13111.03 uJ\n",
            "energy consumption for layer1.2.conv1.yaml : 1491.77 uJ\n",
            "energy consumption for layer1.1.conv2.yaml : 2320.05 uJ\n",
            "energy consumption for layer1.2.conv2.yaml : 1336.95 uJ\n",
            "energy consumption for layer1.3.conv1.yaml : 1765.24 uJ\n",
            "energy consumption for layer1.3.conv2.yaml : 1237.2 uJ\n",
            "energy consumption for layer1.4.conv1.yaml : 2336.29 uJ\n",
            "energy consumption for layer1.4.conv2.yaml : 2701.86 uJ\n",
            "energy consumption for layer2.0.conv1.yaml : 1385.62 uJ\n",
            "energy consumption for layer2.0.conv2.yaml : 5410.12 uJ\n",
            "energy consumption for layer2.1.conv1.yaml : 5169.89 uJ\n",
            "energy consumption for layer2.0.downsample.0.yaml : 39.12 uJ\n",
            "energy consumption for layer2.1.conv2.yaml : 3754.94 uJ\n",
            "energy consumption for layer2.2.conv1.yaml : 3970.03 uJ\n",
            "energy consumption for layer2.3.conv1.yaml : 4329.71 uJ\n",
            "energy consumption for layer2.2.conv2.yaml : 4329.71 uJ\n",
            "energy consumption for layer3.2.conv1.yaml : 12939.56 uJ\n",
            "energy consumption for layer3.2.conv2.yaml : 10330.91 uJ\n",
            "energy consumption for layer3.3.conv1.yaml : 12512.17 uJ\n",
            "energy consumption for layer3.4.conv1.yaml : 12512.17 uJ\n",
            "energy consumption for layer3.3.conv2.yaml : 10871.23 uJ\n",
            "energy consumption for layer3.4.conv2.yaml : 8916.52 uJ\n",
            "Total energy consumption for ResNet-32: 181691.93000000002 uJ\n",
            "Layer: layer1.1.conv1.yaml, Energy: 181691.93000000002 uJ\n",
            "Q3/prob/layer1.0.conv2.yaml.yaml\n",
            "input file: Q3/arch/eyeriss_like.yaml\n",
            "input file: Q3/prob/layer1.0.conv2.yaml.yaml\n",
            "input file: Q3/mapper/mapper.yaml\n",
            "  _______                __                \n",
            " /_  __(_)___ ___  ___  / /___  ____  ____ \n",
            "  / / / / __ `__ \\/ _ \\/ / __ \\/ __ \\/ __ \\\n",
            " / / / / / / / / /  __/ / /_/ / /_/ / /_/ /\n",
            "/_/ /_/_/ /_/ /_/\\___/_/\\____/\\____/ .___/ \n",
            "                                  /_/      \n",
            "\n",
            "Problem configuration complete.\n",
            "execute:/usr/bin/accelergy Q3/arch/eyeriss_like.yaml Q3/prob/layer1.0.conv2.yaml.yaml Q3/mapper/mapper.yaml --oprefix timeloop-mapper. -o ./ > timeloop-mapper.accelergy.log 2>&1\n",
            "Generate Accelergy ERT (energy reference table) to replace internal energy model.\n",
            "Generate Accelergy ART (area reference table) to replace internal area model.\n",
            "Architecture configuration complete.\n",
            "Sparse optimization configuration complete.\n",
            "Using threads = 8\n",
            "Mapper configuration complete.\n",
            "Initializing Index Factorization subspace.\n",
            "  Factorization options along problem dimension C = 330\n",
            "  Factorization options along problem dimension M = 228096\n",
            "  Factorization options along problem dimension R = 8\n",
            "  Factorization options along problem dimension S = 8\n",
            "  Factorization options along problem dimension N = 1\n",
            "  Factorization options along problem dimension P = 792\n",
            "  Factorization options along problem dimension Q = 792\n",
            "Mapspace Dimension [IndexFactorization] Size: 3021773765345280\n",
            "Mapspace Dimension [LoopPermutation] Size: 3252016064102400000\n",
            "Mapspace Dimension [Spatial] Size: 64\n",
            "Mapspace Dimension [DatatypeBypass] Size: 32768\n",
            "ERROR: overflow detected: mapspace size appears to be greater than 2^128. Please add some mapspace constraints.\n",
            "energy consumption for layer1.1.conv1.yaml : 2336.29 uJ\n",
            "energy consumption for layer1.0.conv2.yaml : 2744.11 uJ\n"
          ]
        },
        {
          "output_type": "error",
          "ename": "FileNotFoundError",
          "evalue": "[Errno 2] No such file or directory: '/content/gdrive/MyDrive/ELE6310E/A2/timeloop-mapper.stats.txt'",
          "traceback": [
            "\u001b[0;31m---------------------------------------------------------------------------\u001b[0m",
            "\u001b[0;31mFileNotFoundError\u001b[0m                         Traceback (most recent call last)",
            "\u001b[0;32m<ipython-input-22-134d322f6d40>\u001b[0m in \u001b[0;36m<cell line: 5>\u001b[0;34m()\u001b[0m\n\u001b[1;32m      7\u001b[0m     \u001b[0mprint\u001b[0m\u001b[0;34m(\u001b[0m\u001b[0myaml_file\u001b[0m\u001b[0;34m)\u001b[0m\u001b[0;34m\u001b[0m\u001b[0;34m\u001b[0m\u001b[0m\n\u001b[1;32m      8\u001b[0m     \u001b[0mget_ipython\u001b[0m\u001b[0;34m(\u001b[0m\u001b[0;34m)\u001b[0m\u001b[0;34m.\u001b[0m\u001b[0msystem\u001b[0m\u001b[0;34m(\u001b[0m\u001b[0;34m'timeloop-mapper Q3/arch/eyeriss_like.yaml {yaml_file} Q3/mapper/mapper.yaml'\u001b[0m\u001b[0;34m)\u001b[0m\u001b[0;34m\u001b[0m\u001b[0;34m\u001b[0m\u001b[0m\n\u001b[0;32m----> 9\u001b[0;31m     \u001b[0menergy\u001b[0m \u001b[0;34m=\u001b[0m \u001b[0msolution\u001b[0m\u001b[0;34m.\u001b[0m\u001b[0mRun_Accelergy\u001b[0m\u001b[0;34m(\u001b[0m\u001b[0mpath_to_eyeriss_files\u001b[0m\u001b[0;34m=\u001b[0m\u001b[0;34m'Q3'\u001b[0m\u001b[0;34m)\u001b[0m\u001b[0;34m\u001b[0m\u001b[0;34m\u001b[0m\u001b[0m\n\u001b[0m\u001b[1;32m     10\u001b[0m     \u001b[0menergy_data\u001b[0m\u001b[0;34m.\u001b[0m\u001b[0mappend\u001b[0m\u001b[0;34m(\u001b[0m\u001b[0;34m(\u001b[0m\u001b[0mlayer_name\u001b[0m\u001b[0;34m,\u001b[0m\u001b[0menergy\u001b[0m\u001b[0;34m)\u001b[0m\u001b[0;34m)\u001b[0m\u001b[0;34m\u001b[0m\u001b[0;34m\u001b[0m\u001b[0m\n\u001b[1;32m     11\u001b[0m     \u001b[0mprint\u001b[0m\u001b[0;34m(\u001b[0m\u001b[0;34mf'Layer: {layer_name}, Energy: {energy} uJ'\u001b[0m\u001b[0;34m)\u001b[0m\u001b[0;34m\u001b[0m\u001b[0;34m\u001b[0m\u001b[0m\n",
            "\u001b[0;32m/content/gdrive/MyDrive/ELE6310E/A2/solution.py\u001b[0m in \u001b[0;36mRun_Accelergy\u001b[0;34m(path_to_eyeriss_files)\u001b[0m\n\u001b[1;32m    103\u001b[0m                   \u001b[0;34mf\"{path_to_eyeriss_files}/arch/eyeriss_like.yaml {path_to_eyeriss_files}/constraints/*.yaml  {path_to_eyeriss_files}/mapper/mapper.yaml\"\u001b[0m\u001b[0;34m\u001b[0m\u001b[0;34m\u001b[0m\u001b[0m\n\u001b[1;32m    104\u001b[0m         \u001b[0mos\u001b[0m\u001b[0;34m.\u001b[0m\u001b[0msystem\u001b[0m\u001b[0;34m(\u001b[0m\u001b[0mcommand\u001b[0m\u001b[0;34m)\u001b[0m\u001b[0;34m\u001b[0m\u001b[0;34m\u001b[0m\u001b[0m\n\u001b[0;32m--> 105\u001b[0;31m         \u001b[0menergy\u001b[0m \u001b[0;34m=\u001b[0m \u001b[0mExtract_Stats\u001b[0m\u001b[0;34m(\u001b[0m\u001b[0mpath\u001b[0m\u001b[0;34m=\u001b[0m\u001b[0;34mf\"{current_path}/timeloop-mapper.stats.txt\"\u001b[0m\u001b[0;34m)\u001b[0m\u001b[0;34m[\u001b[0m\u001b[0;36m0\u001b[0m\u001b[0;34m]\u001b[0m\u001b[0;34m\u001b[0m\u001b[0;34m\u001b[0m\u001b[0m\n\u001b[0m\u001b[1;32m    106\u001b[0m         \u001b[0mprint\u001b[0m\u001b[0;34m(\u001b[0m\u001b[0;34mf'energy consumption for {l[:-5]} : {energy} uJ'\u001b[0m\u001b[0;34m)\u001b[0m\u001b[0;34m\u001b[0m\u001b[0;34m\u001b[0m\u001b[0m\n\u001b[1;32m    107\u001b[0m         \u001b[0menergy_total\u001b[0m \u001b[0;34m+=\u001b[0m \u001b[0menergy\u001b[0m\u001b[0;34m\u001b[0m\u001b[0;34m\u001b[0m\u001b[0m\n",
            "\u001b[0;32m/content/gdrive/MyDrive/ELE6310E/A2/solution.py\u001b[0m in \u001b[0;36mExtract_Stats\u001b[0;34m(path)\u001b[0m\n\u001b[1;32m     80\u001b[0m     \"\"\"\n\u001b[1;32m     81\u001b[0m     \u001b[0mmylines\u001b[0m \u001b[0;34m=\u001b[0m \u001b[0;34m[\u001b[0m\u001b[0;34m]\u001b[0m\u001b[0;34m\u001b[0m\u001b[0;34m\u001b[0m\u001b[0m\n\u001b[0;32m---> 82\u001b[0;31m     \u001b[0;32mwith\u001b[0m \u001b[0mopen\u001b[0m\u001b[0;34m(\u001b[0m\u001b[0mpath\u001b[0m\u001b[0;34m,\u001b[0m \u001b[0;34m'rt'\u001b[0m\u001b[0;34m)\u001b[0m \u001b[0;32mas\u001b[0m \u001b[0mmyfile\u001b[0m\u001b[0;34m:\u001b[0m\u001b[0;34m\u001b[0m\u001b[0;34m\u001b[0m\u001b[0m\n\u001b[0m\u001b[1;32m     83\u001b[0m         \u001b[0;32mfor\u001b[0m \u001b[0mmyline\u001b[0m \u001b[0;32min\u001b[0m \u001b[0mmyfile\u001b[0m\u001b[0;34m:\u001b[0m\u001b[0;34m\u001b[0m\u001b[0;34m\u001b[0m\u001b[0m\n\u001b[1;32m     84\u001b[0m             \u001b[0;32mif\u001b[0m \u001b[0mmyline\u001b[0m\u001b[0;34m.\u001b[0m\u001b[0mfind\u001b[0m\u001b[0;34m(\u001b[0m\u001b[0;34m\"Energy:\"\u001b[0m\u001b[0;34m)\u001b[0m \u001b[0;34m!=\u001b[0m \u001b[0;34m-\u001b[0m\u001b[0;36m1\u001b[0m\u001b[0;34m:\u001b[0m\u001b[0;34m\u001b[0m\u001b[0;34m\u001b[0m\u001b[0m\n",
            "\u001b[0;31mFileNotFoundError\u001b[0m: [Errno 2] No such file or directory: '/content/gdrive/MyDrive/ELE6310E/A2/timeloop-mapper.stats.txt'"
          ]
        }
      ],
      "source": [
        "energy_data = []\n",
        "from pathlib import Path\n",
        "problem_directory = 'Q3/prob'\n",
        "yaml_files = list(Path(problem_directory).glob('*.yaml'))\n",
        "for yaml_file in yaml_files:\n",
        "    layer_name = yaml_file.stem\n",
        "    print(yaml_file)\n",
        "    !timeloop-mapper Q3/arch/eyeriss_like.yaml {yaml_file} Q3/mapper/mapper.yaml\n",
        "    energy = solution.Run_Accelergy(path_to_eyeriss_files='Q3')\n",
        "    energy_data.append((layer_name,energy))\n",
        "    print(f'Layer: {layer_name}, Energy: {energy} uJ')"
      ]
    }
  ],
  "metadata": {
    "colab": {
      "provenance": [],
      "gpuType": "T4",
      "authorship_tag": "ABX9TyM3yVauQZYXZaNoDhumcETf",
      "include_colab_link": true
    },
    "kernelspec": {
      "display_name": "Python 3",
      "name": "python3"
    },
    "language_info": {
      "name": "python"
    },
    "accelerator": "GPU"
  },
  "nbformat": 4,
  "nbformat_minor": 0
}