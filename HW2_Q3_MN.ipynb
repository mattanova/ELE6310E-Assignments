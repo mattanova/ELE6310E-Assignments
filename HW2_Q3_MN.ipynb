{
  "nbformat": 4,
  "nbformat_minor": 0,
  "metadata": {
    "colab": {
      "provenance": [],
      "gpuType": "T4",
      "authorship_tag": "ABX9TyMFCPHgsyEW6vAPrAEhKFX1",
      "include_colab_link": true
    },
    "kernelspec": {
      "name": "python3",
      "display_name": "Python 3"
    },
    "language_info": {
      "name": "python"
    },
    "accelerator": "GPU"
  },
  "cells": [
    {
      "cell_type": "markdown",
      "metadata": {
        "id": "view-in-github",
        "colab_type": "text"
      },
      "source": [
        "<a href=\"https://colab.research.google.com/github/mattanova/ELE6310E-Assignments/blob/main/HW2_Q3_MN.ipynb\" target=\"_parent\"><img src=\"https://colab.research.google.com/assets/colab-badge.svg\" alt=\"Open In Colab\"/></a>"
      ]
    },
    {
      "cell_type": "markdown",
      "source": [],
      "metadata": {
        "id": "hvXD0KBjqkQc"
      }
    },
    {
      "cell_type": "code",
      "execution_count": null,
      "metadata": {
        "id": "0UFuARisVh-U"
      },
      "outputs": [],
      "source": [
        "%matplotlib inline\n",
        "%load_ext autoreload\n",
        "%autoreload 2\n",
        "\n",
        "from google.colab import drive\n",
        "drive.mount('/content/gdrive/', force_remount=True)"
      ]
    },
    {
      "cell_type": "code",
      "source": [
        "import sys\n",
        "import os\n",
        "import shutil\n",
        "import warnings\n",
        "\n",
        "# Install requirements\n",
        "!pip install -qr /content/gdrive/MyDrive/ELE6310E/A2/requirements.txt\n",
        "# Check if CUDA is available\n",
        "import torch\n",
        "if not torch.cuda.is_available():\n",
        "    warnings.warn('CUDA is not available.')"
      ],
      "metadata": {
        "id": "PWNU6Y7OWAwF"
      },
      "execution_count": null,
      "outputs": []
    },
    {
      "cell_type": "code",
      "source": [
        "#installing timeloop/accelergy\n",
        "!source /content/gdrive/MyDrive/ELE6310E/A2/install_timeloop/install_timeloop.sh\n",
        "!export PATH=$PATH:~/.local/bin\n",
        "!cp ~/.local/bin/timeloop* /usr/bin/\n",
        "!cp ~/ENV/bin/accelergy* /usr/bin/"
      ],
      "metadata": {
        "id": "F_fJMnD2kFk-"
      },
      "execution_count": null,
      "outputs": []
    },
    {
      "cell_type": "code",
      "source": [
        "%cd /content/gdrive/MyDrive/ELE6310E/A2"
      ],
      "metadata": {
        "id": "iQ8uonvqkr4y"
      },
      "execution_count": null,
      "outputs": []
    },
    {
      "cell_type": "code",
      "source": [
        "import solution\n",
        "import torch\n",
        "import numpy as np\n",
        "import random\n",
        "from matplotlib import pyplot as plt\n",
        "import os"
      ],
      "metadata": {
        "id": "Y8SxZbSnWd_E"
      },
      "execution_count": 5,
      "outputs": []
    },
    {
      "cell_type": "code",
      "source": [
        "from common.utils import load_CIFAR10_dataset, evaluate, fit, model_size\n",
        "from common.resnet import resnet32"
      ],
      "metadata": {
        "id": "XV1xnecsWeeh"
      },
      "execution_count": 6,
      "outputs": []
    },
    {
      "cell_type": "code",
      "source": [
        "#initializing the model\n",
        "Seed = 6310\n",
        "torch.manual_seed(Seed)\n",
        "np.random.seed(Seed)\n",
        "random.seed(Seed)\n",
        "if torch.cuda.is_available():\n",
        "    torch.cuda.manual_seed(Seed)\n",
        "    torch.cuda.manual_seed_all(Seed)"
      ],
      "metadata": {
        "id": "m4ZskhGml-Qk"
      },
      "execution_count": 7,
      "outputs": []
    },
    {
      "cell_type": "code",
      "source": [
        "train_loader, test_loader, calibration_loader = load_CIFAR10_dataset(batch_size=256, calibration_batch_size=1024)\n",
        "model = resnet32(pretrained=True, save_path='./save/')\n",
        "device = torch.device('cuda:0')\n",
        "model.to(device)\n",
        "\n",
        "accuracy = evaluate(model, test_loader, device)\n",
        "print(\"test accuracy of fp model:\", accuracy, \"model size:\", model_size(model))"
      ],
      "metadata": {
        "id": "LA0XXQzWnD_A"
      },
      "execution_count": null,
      "outputs": []
    },
    {
      "cell_type": "code",
      "source": [
        "# defining the pruning ratio layer-wise\n",
        "prune_ratio_dict = {'conv1': 0.4440841438747278,\n",
        " 'layer1.0.conv1': 0.0,\n",
        " 'layer1.0.conv2': 0.21017264220055182,\n",
        " 'layer1.1.conv1': 0.0,\n",
        " 'layer1.1.conv2': 0.1304443521010617,\n",
        " 'layer1.2.conv1': 0.2179308491794905,\n",
        " 'layer1.2.conv2': 0.49600963729509406,\n",
        " 'layer1.3.conv1': 0.2676747798862238,\n",
        " 'layer1.3.conv2': 0.1145834621899427,\n",
        " 'layer1.4.conv1': 0.0,\n",
        " 'layer1.4.conv2': 0.31566235085885297,\n",
        " 'layer2.0.conv1': 0.0,\n",
        " 'layer2.0.conv2': 0.0,\n",
        " 'layer2.0.downsample.0': 0.5,\n",
        " 'layer2.1.conv1': 0.0,\n",
        " 'layer2.1.conv2': 0.3018744694243821,\n",
        " 'layer2.2.conv1': 0.5,\n",
        " 'layer2.2.conv2': 0.47850360367177003,\n",
        " 'layer2.3.conv1': 0.0,\n",
        " 'layer2.3.conv2': 0.2827091030918264,\n",
        " 'layer2.4.conv1': 0.2883387129263232,\n",
        " 'layer2.4.conv2': 0.22498356321872848,\n",
        " 'layer3.0.conv1': 0.0,\n",
        " 'layer3.0.conv2': 0.0,\n",
        " 'layer3.0.downsample.0': 0.6777966477707704,\n",
        " 'layer3.1.conv1': 0.0,\n",
        " 'layer3.1.conv2': 0.0,\n",
        " 'layer3.2.conv1': 0.0,\n",
        " 'layer3.2.conv2': 0.2311303372748441,\n",
        " 'layer3.3.conv1': 0.0,\n",
        " 'layer3.3.conv2': 0.24996009553444842,\n",
        " 'layer3.4.conv1': 0.0,\n",
        " 'layer3.4.conv2': 0.7088984873721569}\n",
        "\n",
        "sparsed_model = solution.model_to_spars(model, prune_ratio_dict)\n",
        "accuracy = evaluate(sparsed_model, test_loader, device)\n",
        "print(\"test accuracy after pruning:\", accuracy, \"model size:\", model_size(sparsed_model))"
      ],
      "metadata": {
        "id": "UcrGCYPknJ9F",
        "colab": {
          "base_uri": "https://localhost:8080/"
        },
        "outputId": "34454196-ed5d-4fcc-f15f-6818c33482b0"
      },
      "execution_count": 9,
      "outputs": [
        {
          "output_type": "stream",
          "name": "stdout",
          "text": [
            "test accuracy after pruning: 85.2199935913086 model size: model size: 1.520MB\n"
          ]
        }
      ]
    },
    {
      "cell_type": "code",
      "source": [
        "# a heuristic search for possible pruning ratio encrementation\n",
        "import random\n",
        "for key,value in prune_ratio_dict.items():\n",
        "    rand = random.uniform(0.1,0.3) # this range can be changed, for ex. wider for initial times searching\n",
        "    prune_ratio_dict[key] += rand\n",
        "    sparsed_model = solution.model_to_spars(model, prune_ratio_dict)\n",
        "    temp_accuracy = evaluate(sparsed_model, test_loader, device)\n",
        "    if accuracy - temp_accuracy > accuracy*0.1: # to skip layers have a significant effect\n",
        "            prune_ratio_dict[key] -= rand\n",
        "    elif temp_accuracy < 85:    # accuracy constraint\n",
        "        prune_ratio_dict[key] -= rand\n",
        "    elif temp_accuracy > 86:    # to allow pruning as much as possible\n",
        "        accuracy = temp_accuracy\n",
        "    else:\n",
        "        break\n",
        "print(\"pruned model accuracy is: \",accuracy)"
      ],
      "metadata": {
        "id": "vDOLO_Ulr0ZC"
      },
      "execution_count": null,
      "outputs": []
    },
    {
      "cell_type": "code",
      "source": [
        "sparsed_model = solution.model_to_spars(model, prune_ratio_dict)\n",
        "accuracy = evaluate(sparsed_model, test_loader, device)\n",
        "print(\"test accuracy after pruning:\", accuracy, \"model size:\", model_size(sparsed_model))"
      ],
      "metadata": {
        "colab": {
          "base_uri": "https://localhost:8080/"
        },
        "id": "8tfVcj-snOn_",
        "outputId": "904d599d-776d-4708-b4fe-342639fead46"
      },
      "execution_count": 10,
      "outputs": [
        {
          "output_type": "stream",
          "name": "stdout",
          "text": [
            "test accuracy after pruning: 85.2199935913086 model size: model size: 1.520MB\n"
          ]
        }
      ]
    },
    {
      "cell_type": "code",
      "source": [
        "criterion = torch.nn.CrossEntropyLoss()\n",
        "optimizer = torch.optim.SGD(sparsed_model.parameters(), 1e-3, momentum=0.9, weight_decay=0.0005, nesterov=True)\n",
        "scheduler = None\n",
        "train_accuracy, test_accuracy = fit(sparsed_model, 5, train_loader, test_loader, criterion, optimizer, scheduler, device)"
      ],
      "metadata": {
        "colab": {
          "base_uri": "https://localhost:8080/"
        },
        "id": "HNrI3huGnQwy",
        "outputId": "b321ee7b-dec4-488b-df14-6b117f85d6f2"
      },
      "execution_count": 11,
      "outputs": [
        {
          "output_type": "stream",
          "name": "stderr",
          "text": [
            "fit:  20%|██        | 1/5 [00:50<03:23, 50.80s/it]"
          ]
        },
        {
          "output_type": "stream",
          "name": "stdout",
          "text": [
            "epoch 1: train_accuracy=99.1839828491211, test_accuracy=92.00999450683594\n"
          ]
        },
        {
          "output_type": "stream",
          "name": "stderr",
          "text": [
            "\rfit:  40%|████      | 2/5 [01:42<02:34, 51.53s/it]"
          ]
        },
        {
          "output_type": "stream",
          "name": "stdout",
          "text": [
            "epoch 2: train_accuracy=99.45598602294922, test_accuracy=92.39999389648438\n"
          ]
        },
        {
          "output_type": "stream",
          "name": "stderr",
          "text": [
            "\rfit:  60%|██████    | 3/5 [02:33<01:42, 51.03s/it]"
          ]
        },
        {
          "output_type": "stream",
          "name": "stdout",
          "text": [
            "epoch 3: train_accuracy=99.56847381591797, test_accuracy=92.58999633789062\n"
          ]
        },
        {
          "output_type": "stream",
          "name": "stderr",
          "text": [
            "\rfit:  80%|████████  | 4/5 [03:24<00:51, 51.10s/it]"
          ]
        },
        {
          "output_type": "stream",
          "name": "stdout",
          "text": [
            "epoch 4: train_accuracy=99.61756134033203, test_accuracy=92.66999816894531\n"
          ]
        },
        {
          "output_type": "stream",
          "name": "stderr",
          "text": [
            "                                                  "
          ]
        },
        {
          "output_type": "stream",
          "name": "stdout",
          "text": [
            "epoch 5: train_accuracy=99.65437316894531, test_accuracy=92.72999572753906\n"
          ]
        },
        {
          "output_type": "stream",
          "name": "stderr",
          "text": [
            "\r"
          ]
        }
      ]
    },
    {
      "cell_type": "code",
      "source": [
        "solution.generate_resnet_layers(sparsed_model, base_path='common/layer_prob_base.yaml',  path='Q3/prob')"
      ],
      "metadata": {
        "id": "L0Q8WsgBnc0g"
      },
      "execution_count": 12,
      "outputs": []
    },
    {
      "cell_type": "code",
      "source": [
        "energy_data = []\n",
        "from pathlib import Path\n",
        "problem_directory = 'Q3/prob'\n",
        "yaml_files = list(Path(problem_directory).glob('*.yaml'))\n",
        "for yaml_file in yaml_files:\n",
        "    layer_name = yaml_file.stem\n",
        "    print(yaml_file)\n",
        "    !timeloop-mapper Q3/arch/eyeriss_like.yaml {yaml_file} Q3/mapper/mapper.yaml\n",
        "    energy = solution.Run_Accelergy(path_to_eyeriss_files='Q3')\n",
        "    energy_data.append((layer_name,energy))\n",
        "    print(f'Layer: {layer_name}, Energy: {energy} uJ')"
      ],
      "metadata": {
        "colab": {
          "base_uri": "https://localhost:8080/"
        },
        "id": "tXfgmWHBXq3H",
        "outputId": "c4c838b8-40ef-47aa-b21f-573717f13a17"
      },
      "execution_count": null,
      "outputs": [
        {
          "output_type": "stream",
          "name": "stdout",
          "text": [
            "Q3/prob/layer1.3.conv1.yaml.yaml\n",
            "input file: Q3/arch/eyeriss_like.yaml\n",
            "input file: Q3/prob/layer1.3.conv1.yaml.yaml\n",
            "input file: Q3/mapper/mapper.yaml\n",
            "  _______                __                \n",
            " /_  __(_)___ ___  ___  / /___  ____  ____ \n",
            "  / / / / __ `__ \\/ _ \\/ / __ \\/ __ \\/ __ \\\n",
            " / / / / / / / / /  __/ / /_/ / /_/ / /_/ /\n",
            "/_/ /_/_/ /_/ /_/\\___/_/\\____/\\____/ .___/ \n",
            "                                  /_/      \n",
            "\n",
            "Problem configuration complete.\n",
            "execute:/usr/bin/accelergy Q3/arch/eyeriss_like.yaml Q3/prob/layer1.3.conv1.yaml.yaml Q3/mapper/mapper.yaml --oprefix timeloop-mapper. -o ./ > timeloop-mapper.accelergy.log 2>&1\n",
            "Generate Accelergy ERT (energy reference table) to replace internal energy model.\n",
            "Generate Accelergy ART (area reference table) to replace internal area model.\n",
            "Architecture configuration complete.\n",
            "Sparse optimization configuration complete.\n",
            "Using threads = 8\n",
            "Mapper configuration complete.\n",
            "Initializing Index Factorization subspace.\n",
            "  Factorization options along problem dimension C = 330\n",
            "  Factorization options along problem dimension M = 205920\n",
            "  Factorization options along problem dimension R = 8\n",
            "  Factorization options along problem dimension S = 8\n",
            "  Factorization options along problem dimension N = 1\n",
            "  Factorization options along problem dimension P = 792\n",
            "  Factorization options along problem dimension Q = 792\n",
            "Mapspace Dimension [IndexFactorization] Size: 2727990204825600\n",
            "Mapspace Dimension [LoopPermutation] Size: 3252016064102400000\n",
            "Mapspace Dimension [Spatial] Size: 64\n",
            "Mapspace Dimension [DatatypeBypass] Size: 32768\n",
            "ERROR: overflow detected: mapspace size appears to be greater than 2^128. Please add some mapspace constraints.\n",
            "energy consumption for layer1.3.conv1.yaml : 1765.24 uJ\n",
            "energy consumption for layer1.2.conv2.yaml : 1237.2 uJ\n",
            "energy consumption for conv1.yaml : 79.77 uJ\n",
            "energy consumption for layer1.1.conv1.yaml : 2336.29 uJ\n",
            "energy consumption for layer1.2.conv1.yaml : 2701.86 uJ\n",
            "energy consumption for layer1.0.conv2.yaml : 2701.86 uJ\n",
            "energy consumption for layer1.0.conv1.yaml : 2336.29 uJ\n",
            "energy consumption for layer1.1.conv2.yaml : 2320.05 uJ\n",
            "energy consumption for layer3.0.conv2.yaml : 13111.03 uJ\n",
            "energy consumption for layer3.1.conv1.yaml : 13111.03 uJ\n",
            "energy consumption for layer3.0.downsample.0.yaml : 36.32 uJ\n",
            "energy consumption for layer3.1.conv2.yaml : 13111.03 uJ\n",
            "energy consumption for layer1.3.conv2.yaml : 2320.05 uJ\n",
            "energy consumption for layer1.4.conv1.yaml : 2336.29 uJ\n",
            "energy consumption for layer2.0.downsample.0.yaml : 19.57 uJ\n",
            "energy consumption for layer2.0.conv2.yaml : 5410.12 uJ\n",
            "energy consumption for layer1.4.conv2.yaml : 1662.68 uJ\n",
            "energy consumption for layer2.0.conv1.yaml : 1385.62 uJ\n",
            "energy consumption for layer2.1.conv1.yaml : 5410.12 uJ\n",
            "energy consumption for layer2.2.conv1.yaml : 2633.73 uJ\n",
            "energy consumption for layer2.1.conv2.yaml : 3702.33 uJ\n",
            "energy consumption for layer2.2.conv2.yaml : 2781.74 uJ\n",
            "energy consumption for layer2.3.conv2.yaml : 3754.94 uJ\n",
            "energy consumption for layer2.3.conv1.yaml : 5410.12 uJ\n",
            "energy consumption for layer2.4.conv1.yaml : 3754.94 uJ\n",
            "energy consumption for layer2.4.conv2.yaml : 4079.33 uJ\n",
            "energy consumption for layer3.0.conv1.yaml : 3408.74 uJ\n",
            "energy consumption for layer3.2.conv1.yaml : 13111.03 uJ\n",
            "energy consumption for layer3.2.conv2.yaml : 13864.16 uJ\n",
            "energy consumption for layer3.3.conv1.yaml : 13111.03 uJ\n",
            "energy consumption for layer3.3.conv2.yaml : 10002.72 uJ\n",
            "energy consumption for layer3.4.conv1.yaml : 13111.03 uJ\n",
            "energy consumption for layer3.4.conv2.yaml : 3901.91 uJ\n",
            "Total energy consumption for ResNet-32: 170020.17 uJ\n",
            "Layer: layer1.3.conv1.yaml, Energy: 170020.17 uJ\n",
            "Q3/prob/layer1.2.conv2.yaml.yaml\n",
            "input file: Q3/arch/eyeriss_like.yaml\n",
            "input file: Q3/prob/layer1.2.conv2.yaml.yaml\n",
            "input file: Q3/mapper/mapper.yaml\n",
            "  _______                __                \n",
            " /_  __(_)___ ___  ___  / /___  ____  ____ \n",
            "  / / / / __ `__ \\/ _ \\/ / __ \\/ __ \\/ __ \\\n",
            " / / / / / / / / /  __/ / /_/ / /_/ / /_/ /\n",
            "/_/ /_/_/ /_/ /_/\\___/_/\\____/\\____/ .___/ \n",
            "                                  /_/      \n",
            "\n",
            "Problem configuration complete.\n",
            "execute:/usr/bin/accelergy Q3/arch/eyeriss_like.yaml Q3/prob/layer1.2.conv2.yaml.yaml Q3/mapper/mapper.yaml --oprefix timeloop-mapper. -o ./ > timeloop-mapper.accelergy.log 2>&1\n",
            "Generate Accelergy ERT (energy reference table) to replace internal energy model.\n",
            "Generate Accelergy ART (area reference table) to replace internal area model.\n",
            "Architecture configuration complete.\n",
            "Sparse optimization configuration complete.\n",
            "Using threads = 8\n",
            "Mapper configuration complete.\n",
            "Initializing Index Factorization subspace.\n",
            "  Factorization options along problem dimension C = 330\n",
            "  Factorization options along problem dimension M = 123552\n",
            "  Factorization options along problem dimension R = 8\n",
            "  Factorization options along problem dimension S = 8\n",
            "  Factorization options along problem dimension N = 1\n",
            "  Factorization options along problem dimension P = 792\n",
            "  Factorization options along problem dimension Q = 792\n",
            "Mapspace Dimension [IndexFactorization] Size: 1636794122895360\n",
            "Mapspace Dimension [LoopPermutation] Size: 3252016064102400000\n",
            "Mapspace Dimension [Spatial] Size: 64\n",
            "Mapspace Dimension [DatatypeBypass] Size: 32768\n",
            "ERROR: overflow detected: mapspace size appears to be greater than 2^128. Please add some mapspace constraints.\n",
            "energy consumption for layer1.3.conv1.yaml : 1765.24 uJ\n",
            "energy consumption for layer1.2.conv2.yaml : 1237.2 uJ\n",
            "energy consumption for conv1.yaml : 79.77 uJ\n",
            "energy consumption for layer1.1.conv1.yaml : 2336.29 uJ\n",
            "energy consumption for layer1.2.conv1.yaml : 2701.86 uJ\n",
            "energy consumption for layer1.0.conv2.yaml : 2701.86 uJ\n",
            "energy consumption for layer1.0.conv1.yaml : 2336.29 uJ\n",
            "energy consumption for layer1.1.conv2.yaml : 2320.05 uJ\n",
            "energy consumption for layer3.0.conv2.yaml : 13111.03 uJ\n",
            "energy consumption for layer3.1.conv1.yaml : 13111.03 uJ\n",
            "energy consumption for layer3.0.downsample.0.yaml : 36.32 uJ\n",
            "energy consumption for layer3.1.conv2.yaml : 13111.03 uJ\n",
            "energy consumption for layer1.3.conv2.yaml : 3255.14 uJ\n"
          ]
        }
      ]
    }
  ]
}