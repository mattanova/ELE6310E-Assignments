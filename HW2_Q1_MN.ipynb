{
  "nbformat": 4,
  "nbformat_minor": 0,
  "metadata": {
    "colab": {
      "provenance": [],
      "collapsed_sections": [
        "C62aUVTHAqNX",
        "qNIBds6mAQL6",
        "FAJ0QK9pAXXN"
      ],
      "toc_visible": true,
      "authorship_tag": "ABX9TyPDLAs5hnL0B0VUJK/0sqcQ",
      "include_colab_link": true
    },
    "kernelspec": {
      "name": "python3",
      "display_name": "Python 3"
    },
    "language_info": {
      "name": "python"
    }
  },
  "cells": [
    {
      "cell_type": "markdown",
      "metadata": {
        "id": "view-in-github",
        "colab_type": "text"
      },
      "source": [
        "<a href=\"https://colab.research.google.com/github/mattanova/ELE6310E-Assignments/blob/main/HW2_Q1_MN.ipynb\" target=\"_parent\"><img src=\"https://colab.research.google.com/assets/colab-badge.svg\" alt=\"Open In Colab\"/></a>"
      ]
    },
    {
      "cell_type": "markdown",
      "source": [
        "# **Loading problem data**"
      ],
      "metadata": {
        "id": "C62aUVTHAqNX"
      }
    },
    {
      "cell_type": "code",
      "execution_count": null,
      "metadata": {
        "id": "WkYoHRv0li_h"
      },
      "outputs": [],
      "source": [
        "!git clone https://github.com/RedaBensaidDS/ELE6310E.git"
      ]
    },
    {
      "cell_type": "markdown",
      "source": [],
      "metadata": {
        "id": "ZW2A4KWPAR2O"
      }
    },
    {
      "cell_type": "code",
      "source": [
        "%cd ELE6310E/A2/Q1"
      ],
      "metadata": {
        "colab": {
          "base_uri": "https://localhost:8080/"
        },
        "id": "A7Z1V_XJljz9",
        "outputId": "e8b72664-03c3-4029-c1a6-3c42bcaa657f"
      },
      "execution_count": null,
      "outputs": [
        {
          "output_type": "stream",
          "name": "stdout",
          "text": [
            "/content/ELE6310E/A2/Q1\n"
          ]
        }
      ]
    },
    {
      "cell_type": "markdown",
      "source": [
        "# **Functions and classes**"
      ],
      "metadata": {
        "id": "qNIBds6mAQL6"
      }
    },
    {
      "cell_type": "code",
      "source": [
        "import yaml\n",
        "def read_yaml(path):\n",
        "    \"\"\"\n",
        "    This function reads the YAML files and loads\n",
        "    their content\n",
        "    \"\"\"\n",
        "    with open(path,'r') as file:\n",
        "        content = yaml.safe_load(file)\n",
        "    return content"
      ],
      "metadata": {
        "id": "e5KpOSNFlw_t"
      },
      "execution_count": null,
      "outputs": []
    },
    {
      "cell_type": "code",
      "source": [
        "class main_memory:\n",
        "    \"\"\"\n",
        "    > main memory is initialized based on the architecture file\n",
        "    > every time .read / .write are performed on memory, the counter\n",
        "    goes up by one\n",
        "    > since main memory is initiallized with all the data that will\n",
        "    take space in it, checking fot space limitation is done via\n",
        "    fill, for the first time that memory is filled\n",
        "    > create_space returns the overall capacity of memory for data (depth)\n",
        "    and the parallel read/write process numbers it can perform (word_bits)\n",
        "    \"\"\"\n",
        "\n",
        "    def __init__(self, architecture):\n",
        "        self.arch = architecture\n",
        "        self.capacity, self.word_bits = self.create_space()\n",
        "        self.read_counter = 0\n",
        "        self.write_counter = 0\n",
        "\n",
        "    def create_space(self):\n",
        "        capacity = self.arch['architecture']['subtree'][0]['local'][0]['attributes']['depth']\n",
        "        width = self.arch['architecture']['subtree'][0]['local'][0]['attributes']['width']\n",
        "        block_size = self.arch['architecture']['subtree'][0]['local'][0]['attributes']['block-size']\n",
        "        word_bits = width * block_size\n",
        "        return capacity, word_bits\n",
        "\n",
        "    def fill(self, blocks):\n",
        "        assert blocks <= self.capacity , \"Not enough space\"\n",
        "\n",
        "    def read(self):\n",
        "        self.read_counter += 1\n",
        "\n",
        "    def write(self):\n",
        "        self.write_counter += 1"
      ],
      "metadata": {
        "id": "KhmMd81TDPx4"
      },
      "execution_count": null,
      "outputs": []
    },
    {
      "cell_type": "code",
      "source": [
        "class buffer:\n",
        "    \"\"\"\n",
        "    > buffer is initialized based on the architecture file\n",
        "    > every time .read / .write are performed on memory, the counter\n",
        "    goes up by one\n",
        "    > create_space returns the overall capacity of the buffer for data (depth)\n",
        "    and the parallel read/write process numbers it can perform (word_bits)\n",
        "    > every time something is written in buffer, the available space is checked\n",
        "    based on capacity, and if the buffer does not have space FIFO_remove, removes\n",
        "    the oldest element.\n",
        "    > If the oldest element is an output, FIFO takes care to write it back to\n",
        "    main memory.\n",
        "    > In buffer read, the data points (two-dimensional) are added to the buffer\n",
        "    space, to be recognizable if requested again by MAC\n",
        "\n",
        "    \"\"\"\n",
        "    def __init__(self,architecture,problem, main):\n",
        "        self.main = main\n",
        "        self.arch = architecture\n",
        "        self.prob = problem\n",
        "        self.space, self.capacity, self.word_bits = self.create_space()\n",
        "        self.read_counter = 0\n",
        "        self.write_counter = 0\n",
        "\n",
        "    def create_space(self):\n",
        "        capacity = self.arch['architecture']['subtree'][0]['subtree'][0]['local'][0]['attributes']['depth']\n",
        "        width = self.arch['architecture']['subtree'][0]['subtree'][0]['local'][0]['attributes']['width']\n",
        "        block_size = self.arch['architecture']['subtree'][0]['subtree'][0]['local'][0]['attributes']['block-size']\n",
        "        word_bits = width * block_size\n",
        "        space = []\n",
        "        return space, capacity, word_bits\n",
        "\n",
        "    def FIFO_remove(self):\n",
        "        # Also checking to see if the element is an output\n",
        "        # if yes, writing it to main memory before removing\n",
        "        pair1,pair2 = self.space[0]\n",
        "        sub_space = [pair1[0],pair2[0]]\n",
        "        if 'M'and 'P' in sub_space:\n",
        "            self.main.write()\n",
        "        self.space.pop(0)\n",
        "\n",
        "    def write(self, dim1, index1, dim2, index2):\n",
        "        if len(self.space)>=self.capacity:\n",
        "            self.FIFO_remove()\n",
        "        self.write_counter+=1\n",
        "        self.space.append({(dim1, index1), (dim2,index2)})\n",
        "\n",
        "\n",
        "    def read(self, dim1, index1, dim2, index2):\n",
        "        self.read_counter+=1\n",
        "        if {(dim1, index1), (dim2,index2)} not in self.space:\n",
        "            self.main.read()\n",
        "            self.write(dim1, index1, dim2, index2)\n",
        "            self.read_counter+=1\n",
        "        # if the block does not exists in the buffer,\n",
        "        # it should be taken from main memory and written\n",
        "        # in the buffer\n"
      ],
      "metadata": {
        "id": "GF8yDxS9DeWs"
      },
      "execution_count": null,
      "outputs": []
    },
    {
      "cell_type": "code",
      "source": [
        "class mac:\n",
        "    \"\"\"\n",
        "    > MAC is initialized based on the architecture file\n",
        "    > for every operation, mac_usage goes up by one\n",
        "    > create_space returns the data_width for every MAC operation\n",
        "    \"\"\"\n",
        "    def __init__(self,architecture):\n",
        "        self.arch = architecture\n",
        "        self.data_width = self.create_space()\n",
        "        self.mac_counter = 0\n",
        "\n",
        "    def create_space(self):\n",
        "        data_width = self.arch['architecture']['subtree'][0]['subtree'][0]['local'][1]['attributes']['datawidth']\n",
        "        return data_width\n",
        "\n",
        "    def perform(self):\n",
        "        self.mac_counter+=1"
      ],
      "metadata": {
        "id": "TKD0OR1XEMm-"
      },
      "execution_count": null,
      "outputs": []
    },
    {
      "cell_type": "code",
      "source": [
        "def energy_calculator(main,buff,mac):\n",
        "    \"\"\"\n",
        "    This function can be adjusted to represent the\n",
        "    energy consumption of any given hardware by changing\n",
        "    the numerical values in the multiplication\n",
        "    \"\"\"\n",
        "    main_read = main.word_bits * main.read_counter * 7.95\n",
        "    main_write = main.word_bits * main.write_counter * 5.45\n",
        "    buffer_read = buff.word_bits *  buff.read_counter * 0.42\n",
        "    buffer_write = buff.word_bits *  buff.write_counter * 0.42\n",
        "    mac_use = mac.data_width * mac.mac_counter * 0.56\n",
        "    return main_read, main_write, buffer_read, buffer_write, mac_use"
      ],
      "metadata": {
        "id": "WcT3c-eIGYIR"
      },
      "execution_count": null,
      "outputs": []
    },
    {
      "cell_type": "code",
      "source": [
        "def flow_simulator(architecture, mapping, problem):\n",
        "    \"\"\"\n",
        "    This function is the data flow simulator\n",
        "    The steps are commented throughout the lines of the function\n",
        "    \"\"\"\n",
        "    # getting the permutation orders for the specific problem\n",
        "    main_perm = mapping['mapping'][0]['permutation']\n",
        "    main_perm = [char for char in reversed(main_perm)]\n",
        "    buffer_perm = mapping['mapping'][1]['permutation']\n",
        "    buffer_perm = [char for char in reversed(buffer_perm)]\n",
        "    # getting the factors for the specific problem\n",
        "    main_factors = mapping['mapping'][0]['factors'].split()\n",
        "    main_factors = {item[0]: int(item[2:]) for item in main_factors}\n",
        "    buff_factors = mapping['mapping'][1]['factors'].split()\n",
        "    buff_factors = {item[0]: int(item[2:]) for item in buff_factors}\n",
        "    # creating the memory/computation units\n",
        "    main = main_memory(architecture)\n",
        "    buff = buffer(architecture,prob,main)\n",
        "    macc = mac(architecture)\n",
        "    # starting the data_flow simulation\n",
        "    #checking if there is enough space in main_memory\n",
        "    total_required_memory = sum((problem['problem']['instance']).values())\n",
        "    main.fill(total_required_memory)\n",
        "    # for loops of the data projection/movement\n",
        "    # filling the buffer while performing MAC\n",
        "    for A in range(main_factors[main_perm[0]]):\n",
        "        for B in range(main_factors[main_perm[1]]):\n",
        "            main.read()\n",
        "            # to read data, two space dimensions are required\n",
        "            buff.write(main_perm[0],A,main_perm[1],B)\n",
        "            for C in range(main_factors[main_perm[2]]):\n",
        "                main.read()\n",
        "                main.read()\n",
        "                buff.write(main_perm[1],B,main_perm[2],C)\n",
        "                buff.write(main_perm[2],C,main_perm[0],A)\n",
        "                main_dimensions = [A,B,C]\n",
        "                # moving on to reading from buffer and performing MAC\n",
        "                for a in range(buff_factors[buffer_perm[0]]):\n",
        "                    for b in range(buff_factors[buffer_perm[1]]):\n",
        "                        buff.read(buffer_perm[0],a*main_dimensions[main_perm.index(buffer_perm[0])],buffer_perm[1],b*main_dimensions[main_perm.index(buffer_perm[1])])\n",
        "                        for c in range(buff_factors[buffer_perm[2]]):\n",
        "                            buff.read(buffer_perm[1],b*main_dimensions[main_perm.index(buffer_perm[1])],buffer_perm[2],c*main_dimensions[main_perm.index(buffer_perm[2])])\n",
        "                            buff.read(buffer_perm[2],c*main_dimensions[main_perm.index(buffer_perm[2])],buffer_perm[0],a*main_dimensions[main_perm.index(buffer_perm[0])])\n",
        "                            macc.perform()\n",
        "                            dimensions = [a,b,c]\n",
        "                            # writing the last generated output to the buffer\n",
        "                            # for this architecture the projection of the output was -[M] -[P]\n",
        "                            # can be changed to match any other problem\n",
        "                            buff.write('M',dimensions[buffer_perm.index('M')],'P', dimensions[buffer_perm.index('P')])\n",
        "                            # no need writing to main memory. It is taken care of in FIFO_remove\n",
        "\n",
        "    # writing all output related results to main_memory while\n",
        "    # empyting the buffer by the end of the data_flow simulation\n",
        "    while buff.space:\n",
        "        buff.FIFO_remove()\n",
        "\n",
        "    # generating the energy values\n",
        "    stats_list = energy_calculator(main,buff,macc)\n",
        "    keys = ['main_read', 'main_write', 'buffer_read', 'buffer_write', 'mac_use']\n",
        "    stats={}\n",
        "    for j in range(len(keys)):\n",
        "        stats[keys[j]] = stats_list[j]\n",
        "\n",
        "\n",
        "    return stats\n"
      ],
      "metadata": {
        "id": "nlgC8aA1EXEX"
      },
      "execution_count": null,
      "outputs": []
    },
    {
      "cell_type": "markdown",
      "source": [
        "# **Sample problem execution**"
      ],
      "metadata": {
        "id": "FAJ0QK9pAXXN"
      }
    },
    {
      "cell_type": "code",
      "source": [
        "# these can be adjusted for any specific problem\n",
        "arch = read_yaml(\"arch/Q1_arch.yaml\")\n",
        "prob = read_yaml(\"prob/Q1_prob.yaml\")\n",
        "map = read_yaml(\"map/Q1_os-tiled.map2.yaml\")"
      ],
      "metadata": {
        "id": "SIdg-F9hjJg8"
      },
      "execution_count": null,
      "outputs": []
    },
    {
      "cell_type": "code",
      "source": [
        "# using the simulator to get energy_stats\n",
        "stat = flow_simulator(arch, map, prob)"
      ],
      "metadata": {
        "id": "NLrQ-jrbMKwk"
      },
      "execution_count": null,
      "outputs": []
    },
    {
      "cell_type": "code",
      "source": [
        "stat"
      ],
      "metadata": {
        "colab": {
          "base_uri": "https://localhost:8080/"
        },
        "id": "Grazg8Z4ke3b",
        "outputId": "3e5a909b-921d-4d88-d4d9-40beefa6b091"
      },
      "execution_count": null,
      "outputs": [
        {
          "output_type": "execute_result",
          "data": {
            "text/plain": [
              "{'main_read': 16281.6,\n",
              " 'main_write': 74163.6,\n",
              " 'buffer_read': 12465.6,\n",
              " 'buffer_write': 6021.12,\n",
              " 'mac_use': 6881.280000000001}"
            ]
          },
          "metadata": {},
          "execution_count": 36
        }
      ]
    }
  ]
}